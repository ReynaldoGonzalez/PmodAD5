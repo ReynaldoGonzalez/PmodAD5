{
 "cells": [
  {
   "cell_type": "code",
   "execution_count": 1,
   "metadata": {},
   "outputs": [
    {
     "data": {
      "application/javascript": [
       "\n",
       "require(['notebook/js/codecell'], function(codecell) {\n",
       "  codecell.CodeCell.options_default.highlight_modes[\n",
       "      'magic_text/x-csrc'] = {'reg':[/^%%microblaze/]};\n",
       "  Jupyter.notebook.events.one('kernel_ready.Kernel', function(){\n",
       "      Jupyter.notebook.get_cells().map(function(cell){\n",
       "          if (cell.cell_type == 'code'){ cell.auto_highlight(); } }) ;\n",
       "  });\n",
       "});\n"
      ]
     },
     "metadata": {},
     "output_type": "display_data"
    }
   ],
   "source": [
    "from pynq.overlays.base import BaseOverlay\n",
    "from pynq.lib import Pmod_DA4, Pmod_AD5"
   ]
  },
  {
   "cell_type": "code",
   "execution_count": 2,
   "metadata": {},
   "outputs": [],
   "source": [
    "ol = BaseOverlay(\"base.bit\")"
   ]
  },
  {
   "cell_type": "code",
   "execution_count": 3,
   "metadata": {},
   "outputs": [],
   "source": [
    "dac = Pmod_DA4(ol.PMODA,0)\n",
    "adc = Pmod_AD5(ol.PMODB)"
   ]
  },
  {
   "cell_type": "code",
   "execution_count": 53,
   "metadata": {},
   "outputs": [
    {
     "name": "stdout",
     "output_type": "stream",
     "text": [
      "0\n"
     ]
    },
    {
     "data": {
      "text/plain": [
       "'00000000000000000000000000000000'"
      ]
     },
     "execution_count": 53,
     "metadata": {},
     "output_type": "execute_result"
    }
   ],
   "source": [
    "conf = adc.read_config()\n",
    "print(conf)\n",
    "'{:032b}'.format(conf)"
   ]
  },
  {
   "cell_type": "code",
   "execution_count": 44,
   "metadata": {},
   "outputs": [
    {
     "name": "stdout",
     "output_type": "stream",
     "text": [
      "511\n"
     ]
    },
    {
     "data": {
      "text/plain": [
       "'00000000000000000000000111111111'"
      ]
     },
     "execution_count": 44,
     "metadata": {},
     "output_type": "execute_result"
    }
   ],
   "source": [
    "mode = adc.READ_MODE()\n",
    "print(mode)\n",
    "'{:032b}'.format(mode)"
   ]
  },
  {
   "cell_type": "code",
   "execution_count": 27,
   "metadata": {},
   "outputs": [],
   "source": [
    "dac.write(0,0)"
   ]
  },
  {
   "cell_type": "code",
   "execution_count": 28,
   "metadata": {},
   "outputs": [
    {
     "data": {
      "text/plain": [
       "'00000000000000000000000010001101'"
      ]
     },
     "execution_count": 28,
     "metadata": {},
     "output_type": "execute_result"
    }
   ],
   "source": [
    "y = adc.read()\n",
    "'{:032b}'.format(y)"
   ]
  },
  {
   "cell_type": "code",
   "execution_count": 92,
   "metadata": {},
   "outputs": [
    {
     "name": "stdout",
     "output_type": "stream",
     "text": [
      "0\n",
      "Status Register =  00000000\n",
      "Ready bit  =  0\n",
      "Error bit  =  0\n",
      "No ref bit =  0\n",
      "Parity bit =  0\n",
      "CHD3 bit   =  0\n",
      "CHD2 bit   =  0\n",
      "CHD1 bit   =  0\n",
      "CHD0 bit   =  0\n"
     ]
    }
   ],
   "source": [
    "x = adc.status()\n",
    "print(x)\n",
    "status = \"{0:08b}\".format(x)\n",
    "print(\"Status Register = \", status)\n",
    "print(\"Ready bit  = \", status[0]) # RDY bit is set automatically after the ADC data register is read\n",
    "print(\"Error bit  = \", status[1]) # cleared when the result written to the data register is within the allowed analog input range\n",
    "print(\"No ref bit = \", status[2]) # This bit is cleared to indicate that a valid reference is applied to the selected reference pins\n",
    "print(\"Parity bit = \", status[3]) # cleared if there is an even number of 1s in the data register\n",
    "print(\"CHD3 bit   = \", status[4]) # These bits indicate which channel corresponds to the data register contents\n",
    "print(\"CHD2 bit   = \", status[5])\n",
    "print(\"CHD1 bit   = \", status[6])\n",
    "print(\"CHD0 bit   = \", status[7])\n"
   ]
  }
 ],
 "metadata": {
  "kernelspec": {
   "display_name": "Python 3",
   "language": "python",
   "name": "python3"
  },
  "language_info": {
   "codemirror_mode": {
    "name": "ipython",
    "version": 3
   },
   "file_extension": ".py",
   "mimetype": "text/x-python",
   "name": "python",
   "nbconvert_exporter": "python",
   "pygments_lexer": "ipython3",
   "version": "3.6.5"
  }
 },
 "nbformat": 4,
 "nbformat_minor": 2
}
